{
 "cells": [
  {
   "cell_type": "markdown",
   "id": "947d476a",
   "metadata": {},
   "source": [
    "## Salvando dados transformados"
   ]
  },
  {
   "cell_type": "markdown",
   "id": "7fed5598",
   "metadata": {},
   "source": [
    "#### Importanto"
   ]
  },
  {
   "cell_type": "code",
   "execution_count": 6,
   "id": "a0774f6c",
   "metadata": {},
   "outputs": [],
   "source": [
    "import json\n",
    "import csv\n",
    "\n",
    "path_json = '/home/bispo/Documentos/pipeline_dados/data_raw/dados_empresaA.json'\n",
    "path_csv = '/home/bispo/Documentos/pipeline_dados/data_raw/dados_empresaB.csv'\n"
   ]
  },
  {
   "cell_type": "code",
   "execution_count": 7,
   "id": "1d01a5cc",
   "metadata": {},
   "outputs": [],
   "source": [
    "with open(path_json, 'r') as file:\n",
    "    dados_json = json.load(file)\n",
    "with open(path_csv, 'r') as file:\n",
    "    dados_csv = csv.DictReader(file)\n",
    "    dados_csv = [row for row in dados_csv]\n",
    "    # dados_csv = list(dados_csv)\n"
   ]
  },
  {
   "cell_type": "code",
   "execution_count": 8,
   "id": "d7600eb7",
   "metadata": {},
   "outputs": [
    {
     "name": "stdout",
     "output_type": "stream",
     "text": [
      "<class 'dict'>\n"
     ]
    },
    {
     "data": {
      "text/plain": [
       "list"
      ]
     },
     "execution_count": 8,
     "metadata": {},
     "output_type": "execute_result"
    }
   ],
   "source": [
    "print(type(dados_csv[0]))\n",
    "type(dados_json)"
   ]
  },
  {
   "cell_type": "code",
   "execution_count": 11,
   "id": "cab0e887",
   "metadata": {},
   "outputs": [
    {
     "ename": "AttributeError",
     "evalue": "module 'csv' has no attribute 'writeheader'",
     "output_type": "error",
     "traceback": [
      "\u001b[0;31m---------------------------------------------------------------------------\u001b[0m",
      "\u001b[0;31mAttributeError\u001b[0m                            Traceback (most recent call last)",
      "Cell \u001b[0;32mIn[11], line 5\u001b[0m\n\u001b[1;32m      3\u001b[0m \u001b[38;5;28;01mwith\u001b[39;00m \u001b[38;5;28mopen\u001b[39m(path_dados_combinados, \u001b[38;5;124m'\u001b[39m\u001b[38;5;124mw\u001b[39m\u001b[38;5;124m'\u001b[39m) \u001b[38;5;28;01mas\u001b[39;00m file:\n\u001b[1;32m      4\u001b[0m     csv\u001b[38;5;241m.\u001b[39mDictReader(file, fieldnames\u001b[38;5;241m=\u001b[39mdados_csv[\u001b[38;5;241m0\u001b[39m]\u001b[38;5;241m.\u001b[39mkeys())\n\u001b[0;32m----> 5\u001b[0m     \u001b[43mcsv\u001b[49m\u001b[38;5;241;43m.\u001b[39;49m\u001b[43mwriteheader\u001b[49m()\n\u001b[1;32m      7\u001b[0m     \u001b[38;5;28;01mfor\u001b[39;00m row \u001b[38;5;129;01min\u001b[39;00m dados_csv:\n\u001b[1;32m      8\u001b[0m         csv\u001b[38;5;241m.\u001b[39mwriter\u001b[38;5;241m.\u001b[39mwriterow(row)\n",
      "\u001b[0;31mAttributeError\u001b[0m: module 'csv' has no attribute 'writeheader'"
     ]
    }
   ],
   "source": [
    "path_dados_combinados = '../data_processed/dados_combinados.csv' \n",
    "\n",
    "with open(path_dados_combinados, 'w') as file:\n",
    "    csv.DictReader(file, fieldnames=dados_csv[0].keys())\n",
    "    csv.writeheader()\n",
    "\n",
    "    for row in dados_csv:\n",
    "        csv.writer.writerow(row)"
   ]
  }
 ],
 "metadata": {
  "kernelspec": {
   "display_name": ".venv",
   "language": "python",
   "name": "python3"
  },
  "language_info": {
   "codemirror_mode": {
    "name": "ipython",
    "version": 3
   },
   "file_extension": ".py",
   "mimetype": "text/x-python",
   "name": "python",
   "nbconvert_exporter": "python",
   "pygments_lexer": "ipython3",
   "version": "3.10.12"
  }
 },
 "nbformat": 4,
 "nbformat_minor": 5
}
